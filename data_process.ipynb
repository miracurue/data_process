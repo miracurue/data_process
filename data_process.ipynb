{
 "cells": [
  {
   "cell_type": "code",
   "execution_count": 1,
   "metadata": {},
   "outputs": [],
   "source": [
    "import pandas as pd\n",
    "import pymysql\n",
    "import re\n",
    "from datetime import datetime\n",
    "import numpy as np\n",
    "pd.set_option('display.max_columns', None)\n",
    "pd.set_option('display.max_rows', None)\n",
    "from py.ankety_correction import *"
   ]
  },
  {
   "cell_type": "markdown",
   "metadata": {},
   "source": [
    "# Импорт данных"
   ]
  },
  {
   "cell_type": "code",
   "execution_count": null,
   "metadata": {},
   "outputs": [],
   "source": [
    "# Импорт физических лиц из базы mysql\n",
    "def import_table(db_host, db_user, db_password, db_name, table_name):\n",
    "    # Подключение к базе данных\n",
    "    connection = pymysql.connect(host=db_host,\n",
    "                                 user=db_user,\n",
    "                                 password=db_password,\n",
    "                                 database=db_name,\n",
    "                                 cursorclass=pymysql.cursors.DictCursor)\n",
    "\n",
    "    try:\n",
    "        with connection.cursor() as cursor:\n",
    "            # SQL запрос для выбора всех данных из таблицы\n",
    "            sql_query = f\"SELECT * FROM {table_name}\"\n",
    "            cursor.execute(sql_query)\n",
    "\n",
    "            # Получение результатов запроса\n",
    "            rows = cursor.fetchall()\n",
    "\n",
    "            # Преобразование результатов в DataFrame\n",
    "            df = pd.DataFrame(rows)\n",
    "            return df\n",
    "    finally:\n",
    "        connection.close()\n",
    "\n",
    "df_fiz = import_table('localhost', 'user', 'password', 'alumny_db', 'persons')"
   ]
  },
  {
   "cell_type": "code",
   "execution_count": 55,
   "metadata": {},
   "outputs": [],
   "source": [
    "file_name = 'lids_22_02_24_по_11_03_24'"
   ]
  },
  {
   "cell_type": "code",
   "execution_count": 56,
   "metadata": {},
   "outputs": [],
   "source": [
    "#Выгрузка из Битрикса\n",
    "url_lids = r'C:\\Users\\0478\\Documents\\Repositories\\base\\lids\\{}.csv'.format(file_name)\n",
    "#Выгрузка из 1С: необходимо выгружать каждый раз более ранние записи\n",
    "url_1c = r\"C:\\Users\\0478\\Documents\\Repositories\\base\\1C\\1C_2023_po_22_02_24.xlsx\"\n",
    "#Выгрузка из базы анкет выпускника\n",
    "url_ank = r\"C:\\Users\\0478\\Documents\\Repositories\\base\\excel_data\\\\02_lids_22_02_24.xlsx\"\n",
    "\n",
    "df_lid = pd.read_csv(url_lids, sep=';', dtype='str')\n",
    "df_lid = df_lid[df_lid['Название лида'] == 'Заполнение CRM-формы \"Анкета выпускника\"'].reset_index(drop=True)\n",
    "df_1c = pd.read_excel(url_1c, header=0, dtype='str')\n",
    "df_ank = pd.read_excel(url_ank, header=0, dtype='str')\n"
   ]
  },
  {
   "cell_type": "markdown",
   "metadata": {},
   "source": [
    "# Предобработка данных"
   ]
  },
  {
   "cell_type": "code",
   "execution_count": 57,
   "metadata": {},
   "outputs": [],
   "source": [
    "#Приводим все таблицы к нижнему регистру и удаляем в строковых колонках пробелы и запятые по краям   \n",
    "df_lid = lower_strip(df_lid, df_full=True)\n",
    "df_fiz = lower_strip(df_fiz, df_full=True)\n",
    "df_1c = lower_strip(df_1c, df_full=True)\n",
    "df_ank = lower_strip(df_ank, df_full=True)"
   ]
  },
  {
   "cell_type": "code",
   "execution_count": 59,
   "metadata": {},
   "outputs": [],
   "source": [
    "# Коррекция анкет\n",
    "\n",
    "phone_correction(df_lid, 'Рабочий телефон') # Коррекция телефонов\n",
    "df_lid = drop_columns_ank(df_lid) # Удаление лишних колонок\n",
    "date_correction(df_lid, 'Дата создания') # Коррекция дат\n",
    "date_correction(df_lid, 'Дата рождения') # Коррекция дат\n",
    "df_lid = citizenship_correction_ank(df_lid, True) # Коррекция гражданства\n",
    "df_lid = residence_correction_ank(df_lid, True) # Коррекция места жительства\n",
    "df_lid = language_correction(df_lid, True) # Коррекция языков\n",
    "forma_ob_correction(df_lid) # Коррекция формы обучения\n"
   ]
  },
  {
   "cell_type": "markdown",
   "metadata": {},
   "source": [
    "# Добавление уникальных id"
   ]
  },
  {
   "cell_type": "code",
   "execution_count": 66,
   "metadata": {},
   "outputs": [
    {
     "name": "stdout",
     "output_type": "stream",
     "text": [
      "Заполнено (15, 51) строк\n",
      "Осталось не заполненными (164, 51) строк\n"
     ]
    }
   ],
   "source": [
    "# проставляем id, в список save_list_id_1 сохраняются проставленные id для того, чтобы позже произвести проверку \n",
    "df_ank_id, save_list_id_1 = id_find(df_lid_temp, df_fiz, 'Рабочий e-mail', 'Email')\n",
    "print(f'Заполнено {df_ank_id[df_ank_id['id'] != ''].shape} строк')\n",
    "print(f'Осталось не заполненными {df_ank_id[df_ank_id['id'] == ''].shape} строк')"
   ]
  },
  {
   "cell_type": "code",
   "execution_count": 72,
   "metadata": {},
   "outputs": [
    {
     "name": "stdout",
     "output_type": "stream",
     "text": [
      "Максимальный индекс в df_fiz перед добавлением новых строк: 39102\n",
      "Размерность df_fiz перед добавлением новых строк: (39103, 25)\n",
      "Размерность df_fiz после добавления новых строк: (39267, 25)\n",
      "Максимальный индекс в df_fiz после добавления новых строк: 39266\n"
     ]
    }
   ],
   "source": [
    "# Проверяем максимальный индекс, чтобы отслеживать возможные ошибки\n",
    "fiz_index_max_before_update = df_fiz.index.max()\n",
    "print(f'Максимальный индекс в df_fiz перед добавлением новых строк: {fiz_index_max_before_update}')\n",
    "print(f'Размерность df_fiz перед добавлением новых строк: {df_fiz.shape}')\n",
    "\n",
    "# Добавляем в физлица тех, кого там нет\n",
    "df_fiz = add_new_row_to_fiz_from_ank(df_ank_id, df_fiz)\n",
    "print(f'Размерность df_fiz после добавления новых строк: {df_fiz.shape}')\n",
    "print(f'Максимальный индекс в df_fiz после добавления новых строк: {df_fiz.index.max()}')"
   ]
  },
  {
   "cell_type": "code",
   "execution_count": 74,
   "metadata": {},
   "outputs": [
    {
     "name": "stdout",
     "output_type": "stream",
     "text": [
      "Заполнено (179, 51) строк\n",
      "Осталось не заполненными (0, 51) строк\n"
     ]
    }
   ],
   "source": [
    "# Снова проставляем id в анкеты\n",
    "df_ank_id, save_list_id_2 = id_find(df_ank_id, df_fiz, 'Рабочий e-mail', 'Email')\n",
    "print(f'Заполнено {df_ank_id[df_ank_id['id'] != ''].shape} строк')\n",
    "print(f'Осталось не заполненными {df_ank_id[df_ank_id['id'] == ''].shape} строк')"
   ]
  },
  {
   "cell_type": "code",
   "execution_count": 76,
   "metadata": {},
   "outputs": [],
   "source": [
    "# Добавление информации из анкет в физлица\n",
    "df_fiz2 = ank_to_fiz(df_fiz, df_ank_id, 'phone', 'Рабочий телефон').copy()\n",
    "df_fiz2 = ank_to_fiz(df_fiz2, df_ank_id, 'languages', 'Какими иностранными языками Вы владеете?')\n",
    "df_fiz2 = ank_to_fiz(df_fiz2, df_ank_id, 'company', 'Название компании')\n",
    "df_fiz2 = ank_to_fiz(df_fiz2, df_ank_id, 'position', 'Должность')\n",
    "df_fiz2 = ank_to_fiz(df_fiz2, df_ank_id, 'citizenship', 'Ваше гражданство')\n",
    "df_fiz2 = ank_to_fiz(df_fiz2, df_ank_id, 'residential_address', 'Место жительства')\n",
    "df_fiz2 = ank_to_fiz(df_fiz2, df_ank_id, 'want_to_assotiation', 'Хотите ли вступить в Ассоциацию выпускников РГГУ?')\n",
    "df_fiz2 = ank_to_fiz(df_fiz2, df_ank_id, 'disability_category', 'Есть ли у Вас инвалидность')\n",
    "df_fiz2 = ank_to_fiz(df_fiz2, df_ank_id, 'faculty', 'Факультет и направление')\n",
    "\n",
    "df_fiz2 = unsubscribe(df_fiz2, df_ank_id, 'unsubscribe', 'Хотели бы вы получать рассылку с вакансиями, стажировками и анонсами карьерных мероприятий?', 'no_vacancy')\n",
    "df_fiz2 = unsubscribe(df_fiz2, df_ank_id, 'unsubscribe', 'Хотели бы вы получать информацию об открытии наборов на обучение по программам профессиональной переподготовки и повышения квалификации', 'no_dpo')"
   ]
  }
 ],
 "metadata": {
  "kernelspec": {
   "display_name": "Python 3",
   "language": "python",
   "name": "python3"
  },
  "language_info": {
   "codemirror_mode": {
    "name": "ipython",
    "version": 3
   },
   "file_extension": ".py",
   "mimetype": "text/x-python",
   "name": "python",
   "nbconvert_exporter": "python",
   "pygments_lexer": "ipython3",
   "version": "3.12.0"
  }
 },
 "nbformat": 4,
 "nbformat_minor": 2
}
